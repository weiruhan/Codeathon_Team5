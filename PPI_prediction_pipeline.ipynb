{
  "nbformat": 4,
  "nbformat_minor": 0,
  "metadata": {
    "colab": {
      "provenance": [],
      "machine_shape": "hm",
      "gpuType": "A100"
    },
    "kernelspec": {
      "name": "ir",
      "display_name": "R"
    },
    "language_info": {
      "name": "R"
    },
    "accelerator": "GPU"
  },
  "cells": [
    {
      "cell_type": "code",
      "execution_count": 8,
      "metadata": {
        "colab": {
          "base_uri": "https://localhost:8080/"
        },
        "id": "TaRak-U3H68E",
        "outputId": "d60bd765-973d-4531-8a88-358ef59f8ece"
      },
      "outputs": [
        {
          "output_type": "stream",
          "name": "stderr",
          "text": [
            "Installing package into ‘/usr/local/lib/R/site-library’\n",
            "(as ‘lib’ is unspecified)\n",
            "\n",
            "also installing the dependencies ‘RcppTOML’, ‘here’, ‘png’, ‘config’, ‘tfautograph’, ‘reticulate’, ‘tensorflow’, ‘tfruns’, ‘zeallot’\n",
            "\n",
            "\n",
            "\n",
            "Attaching package: ‘tensorflow’\n",
            "\n",
            "\n",
            "The following object is masked from ‘package:caret’:\n",
            "\n",
            "    train\n",
            "\n",
            "\n",
            "── \u001b[1mAttaching packages\u001b[22m ─────────────────────────────────────── tidyverse 1.3.1 ──\n",
            "\n",
            "\u001b[32m✔\u001b[39m \u001b[34mtibble \u001b[39m 3.2.1     \u001b[32m✔\u001b[39m \u001b[34mdplyr  \u001b[39m 1.1.2\n",
            "\u001b[32m✔\u001b[39m \u001b[34mtidyr  \u001b[39m 1.3.0     \u001b[32m✔\u001b[39m \u001b[34mstringr\u001b[39m 1.5.0\n",
            "\u001b[32m✔\u001b[39m \u001b[34mreadr  \u001b[39m 2.1.4     \u001b[32m✔\u001b[39m \u001b[34mforcats\u001b[39m 1.0.0\n",
            "\u001b[32m✔\u001b[39m \u001b[34mpurrr  \u001b[39m 1.0.1     \n",
            "\n",
            "── \u001b[1mConflicts\u001b[22m ────────────────────────────────────────── tidyverse_conflicts() ──\n",
            "\u001b[31m✖\u001b[39m \u001b[34mdplyr\u001b[39m::\u001b[32mfilter()\u001b[39m masks \u001b[34mstats\u001b[39m::filter()\n",
            "\u001b[31m✖\u001b[39m \u001b[34mdplyr\u001b[39m::\u001b[32mlag()\u001b[39m    masks \u001b[34mstats\u001b[39m::lag()\n",
            "\u001b[31m✖\u001b[39m \u001b[34mpurrr\u001b[39m::\u001b[32mlift()\u001b[39m   masks \u001b[34mcaret\u001b[39m::lift()\n",
            "\n"
          ]
        }
      ],
      "source": [
        "install.packages('keras',Ncpus = 12)\n",
        "library(tensorflow)\n",
        "library(reticulate)\n",
        "library(tidyverse)\n",
        "library(ggplot2)\n",
        "library(caret)"
      ]
    },
    {
      "cell_type": "markdown",
      "source": [
        "# Input data"
      ],
      "metadata": {
        "id": "xZGF1oY5NhCn"
      }
    },
    {
      "cell_type": "markdown",
      "source": [
        "> The data is downloaded from [STRING](https://string-db.org/cgi/download?sessionId=bDnyqNJkHsBL); The proteins are from homo sapiens."
      ],
      "metadata": {
        "id": "SYSpoB3qPXnO"
      }
    },
    {
      "cell_type": "code",
      "source": [
        "# X.ncbi_taxid\n",
        "# cluster_id\n",
        "# cluster_size\n",
        "# best_described_by\n",
        "cluster_info <- read.delim(\"9606.clusters.info.v11.5.txt\",header = T,sep = '\\t')\n",
        "\n",
        "# X.ncbi_taxid\n",
        "# cluster_id\n",
        "# protein_id\n",
        "cluster_protein <- read.delim(\"9606.clusters.proteins.v11.5.txt\",header = T,sep = '\\t')\n",
        "\n",
        "# X.string_protein_1\n",
        "# preferred_name\n",
        "# protein_size\n",
        "# annotation\n",
        "protein_info <- read.delim(\"9606.protein.info.v11.5.txt\",header =T, sep = '\\t')\n",
        "\n",
        "protein_links_full <- read.table(\"9606.protein.links.full.v11.5.txt\",header =T)\n",
        "\n",
        "\n",
        "# Read protein sequence information\n",
        "protein_sequence<- read.table(\"9606.protein.sequences.v11.5.fa\", sep = \"\\n\", stringsAsFactors = FALSE)\n",
        "\n",
        "# Combine the lines into a single string\n",
        "lines <- paste(protein_sequence$V1, collapse = \" \")\n",
        "\n",
        "# Split the lines based on the '>' character\n",
        "components <- strsplit(lines, \">\")\n",
        "\n",
        "# Remove the empty first element\n",
        "components <- components[[1]][-1]\n",
        "\n",
        "# Extract protein IDs and sequences\n",
        "protein_id <- apply(data.frame(components),1,function(x) {\n",
        "  strsplit(x, \"\\\\s+\")[[1]][1]\n",
        "})\n",
        "\n",
        "protein_sequence <- apply(data.frame(components),1, function(x) {\n",
        "  paste(strsplit(x,'\\\\s+')[[1]][-1],collapse = '')\n",
        "})\n",
        "\n",
        "# Create the data frame\n",
        "sequence <- data.frame(Protein_id = protein_id, Protein_sequence = protein_sequence, stringsAsFactors = FALSE)\n"
      ],
      "metadata": {
        "colab": {
          "base_uri": "https://localhost:8080/"
        },
        "id": "yJo6u_QjNnkb",
        "outputId": "9bcfe4f7-d2d8-4027-b2f5-acd07a07ff29"
      },
      "execution_count": 9,
      "outputs": [
        {
          "output_type": "stream",
          "name": "stderr",
          "text": [
            "Warning message in scan(file = file, what = what, sep = sep, quote = quote, dec = dec, :\n",
            "“EOF within quoted string”\n"
          ]
        }
      ]
    },
    {
      "cell_type": "markdown",
      "source": [
        "> Clean data"
      ],
      "metadata": {
        "id": "0ThFLxcTQhuh"
      }
    },
    {
      "cell_type": "code",
      "source": [
        "# remove unnecessary data columns\n",
        "cluster_info <- cluster_info[,-1]\n",
        "cluster_protein <- cluster_protein[,-1]\n",
        "protein_info <- protein_info[,-4]\n",
        "protein_links <- protein_links_full[,c('protein1','protein2')]\n",
        "rm(protein_links_full)"
      ],
      "metadata": {
        "id": "OSRbRoxYQeO0"
      },
      "execution_count": 11,
      "outputs": []
    },
    {
      "cell_type": "markdown",
      "source": [
        "# Data sample Generation"
      ],
      "metadata": {
        "id": "E3r0ffxGOfQf"
      }
    },
    {
      "cell_type": "markdown",
      "source": [
        "> In this part, we choose one protein as one example. The protein id which is chosen is \"9606.ENSP00000000233\", name is \"ARF5\". We fix this protein and extract all pairs containing the specified protein. The pair we extract are considered to have strong interactions, which are positive dataset. To obtain negative pairs, proteins with a size equal to the number of positive pairings are selected at random from the remaining proteins."
      ],
      "metadata": {
        "id": "AR6v7Ti0OvDy"
      }
    },
    {
      "cell_type": "code",
      "source": [
        "# set fixed performance\n",
        "set.seed(1)\n",
        "positive_pairs <- protein_links[protein_links$protein1=='9606.ENSP00000000233',]\n",
        "negative_pairs <- data.frame(protein1 = positive_pairs$protein1,\n",
        "                             protein2 = sample(sequence$Protein_id[\n",
        "                               !(sequence$Protein_id %in%\n",
        "                                   positive_pairs$protein2)],\n",
        "                               size = nrow(positive_pairs)))\n",
        "dim(positive_pairs) # 1440 * 2\n",
        "dim(negative_pairs) # 1440 * 2\n",
        "\n",
        "# Check and make sure positive pairs and negative pairs have no common pairs\n",
        "sum(positive_pairs$protein2 %in% negative_pairs$protein2)\n",
        "\n",
        "\n",
        "\n",
        "\n",
        "# Join pairs with the corresponding sequence\n",
        "positive_pairs <- positive_pairs %>%\n",
        "  inner_join(sequence, by = c('protein1'='Protein_id')) %>%\n",
        "  inner_join(sequence, by = c('protein2' = 'Protein_id')) %>%\n",
        "  rename(sequence1 = Protein_sequence.x, sequence2 = Protein_sequence.y)\n",
        "\n",
        "negative_pairs <- negative_pairs %>%\n",
        "  inner_join(sequence, by = c('protein1'='Protein_id')) %>%\n",
        "  inner_join(sequence, by = c('protein2' = 'Protein_id')) %>%\n",
        "  rename(sequence1 = Protein_sequence.x, sequence2 = Protein_sequence.y)"
      ],
      "metadata": {
        "colab": {
          "base_uri": "https://localhost:8080/",
          "height": 69
        },
        "id": "dmngtAVhPEE_",
        "outputId": "5e6c08c2-66ac-4bcb-f3da-f177f14782e0"
      },
      "execution_count": 12,
      "outputs": [
        {
          "output_type": "display_data",
          "data": {
            "text/html": [
              "<style>\n",
              ".list-inline {list-style: none; margin:0; padding: 0}\n",
              ".list-inline>li {display: inline-block}\n",
              ".list-inline>li:not(:last-child)::after {content: \"\\00b7\"; padding: 0 .5ex}\n",
              "</style>\n",
              "<ol class=list-inline><li>1440</li><li>2</li></ol>\n"
            ],
            "text/markdown": "1. 1440\n2. 2\n\n\n",
            "text/latex": "\\begin{enumerate*}\n\\item 1440\n\\item 2\n\\end{enumerate*}\n",
            "text/plain": [
              "[1] 1440    2"
            ]
          },
          "metadata": {}
        },
        {
          "output_type": "display_data",
          "data": {
            "text/html": [
              "<style>\n",
              ".list-inline {list-style: none; margin:0; padding: 0}\n",
              ".list-inline>li {display: inline-block}\n",
              ".list-inline>li:not(:last-child)::after {content: \"\\00b7\"; padding: 0 .5ex}\n",
              "</style>\n",
              "<ol class=list-inline><li>1440</li><li>2</li></ol>\n"
            ],
            "text/markdown": "1. 1440\n2. 2\n\n\n",
            "text/latex": "\\begin{enumerate*}\n\\item 1440\n\\item 2\n\\end{enumerate*}\n",
            "text/plain": [
              "[1] 1440    2"
            ]
          },
          "metadata": {}
        },
        {
          "output_type": "display_data",
          "data": {
            "text/html": [
              "0"
            ],
            "text/markdown": "0",
            "text/latex": "0",
            "text/plain": [
              "[1] 0"
            ]
          },
          "metadata": {}
        }
      ]
    },
    {
      "cell_type": "markdown",
      "source": [
        "## Feature extraction"
      ],
      "metadata": {
        "id": "K1hCV66BQRIw"
      }
    },
    {
      "cell_type": "markdown",
      "source": [
        "> In this part, we refer to the [(Shen 2007)](https://www.ncbi.nlm.nih.gov/pmc/articles/PMC1838603/#:~:text=In%20the%20present%20work%2C%20we%20propose%20a%20method,a%20conjoint%20triad%20feature%20for%20describing%20amino%20acids.) using conjoint traid method in order to convert the sequence into a new feature space."
      ],
      "metadata": {
        "id": "VnGt73N7Qx8i"
      }
    },
    {
      "cell_type": "markdown",
      "source": [
        "* Each sequence consists of 20 types of amino acid\n",
        "* Each amino acid could be categorized into 7 classes\n",
        "* {A,G,V} -> Class 1\n",
        "* {I,L,F,P} -> Class 2\n",
        "* {Y,M,T,S} -> Class 3\n",
        "* {H,N,Q,W} -> Class 4\n",
        "* {R,K} -> Class 5\n",
        "* {D,E} -> Class 6\n",
        "* {C} -> Class 7"
      ],
      "metadata": {
        "id": "Prgxy9UKSG00"
      }
    },
    {
      "cell_type": "code",
      "source": [
        "map_sequence <- function(sequence)\n",
        "{\n",
        "  sequence <- gsub('A|G|V',1,sequence)\n",
        "  sequence <- gsub('I|L|F|P',2,sequence)\n",
        "  sequence <- gsub('Y|M|T|S',3,sequence)\n",
        "  sequence <- gsub('H|N|Q|W',4,sequence)\n",
        "  sequence <- gsub('R|K',5,sequence)\n",
        "  sequence <- gsub('D|E',6,sequence)\n",
        "  sequence <- gsub('C',7,sequence)\n",
        "  return(sequence)\n",
        "}\n",
        "\n",
        "\n",
        "\n",
        "# map sequence to feature space\n",
        "positive_feature <- data.frame(sequence1 = positive_pairs$sequence1,\n",
        "                               sequence2 = positive_pairs$sequence2)\n",
        "\n",
        "positive_feature$sequence1 <- map_sequence(positive_feature$sequence1)\n",
        "positive_feature$sequence2 <- map_sequence(positive_feature$sequence2)\n",
        "\n",
        "\n",
        "negative_feature <- data.frame(sequence1 = negative_pairs$sequence1,\n",
        "                               sequence2 = negative_pairs$sequence2)\n",
        "negative_feature$sequence1 <- map_sequence(negative_feature$sequence1)\n",
        "negative_feature$sequence2 <- map_sequence(negative_feature$sequence2)\n",
        "\n",
        "\n",
        "# function to convert sequence into normalized frequency vector\n",
        "# by sliding the 3-unit window from the start to the third from last\n",
        "one_hot_to_frequency <- function(sequence)\n",
        "{\n",
        "  sequence <- strsplit(sequence,'')[[1]]\n",
        "  sequence_len <- length(sequence)\n",
        "  one_hot <- numeric(343)\n",
        "  for(i in 1:(sequence_len-2))\n",
        "  {\n",
        "    index <- (as.numeric(sequence[i]) - 1) * 49 + (as.numeric(sequence[i+1]) - 1) * 7 + (as.numeric(sequence[i+2]) - 1) + 1\n",
        "    one_hot[index] <- one_hot[index]+1\n",
        "  }\n",
        "  norm_frequency <- (one_hot-min(one_hot))/max(one_hot)\n",
        "  return(norm_frequency)\n",
        "}\n",
        "\n",
        "# map feature space to normalized feature space\n",
        "# For each pair, concatenate normalized feature space of protein1 and protein2 to create a final feature vector\n",
        "\n",
        "\n",
        "# 686 rows, 1440 columns (observations)\n",
        "positive_norm_feature <- apply(positive_feature,1,\n",
        "                               function(x) c(one_hot_to_frequency(x[1]),one_hot_to_frequency(x[2])))\n",
        "\n",
        "negative_norm_feature <- apply(negative_feature,1,\n",
        "                               function(x) c(one_hot_to_frequency(x[1]),one_hot_to_frequency(x[2])))\n"
      ],
      "metadata": {
        "colab": {
          "base_uri": "https://localhost:8080/"
        },
        "id": "yepz1YVySWGV",
        "outputId": "b10ab259-fba3-486e-cbf9-949fa31e3f17"
      },
      "execution_count": 13,
      "outputs": [
        {
          "output_type": "stream",
          "name": "stderr",
          "text": [
            "Warning message in one_hot_to_frequency(x[2]):\n",
            "“NAs introduced by coercion”\n",
            "Warning message in one_hot_to_frequency(x[2]):\n",
            "“NAs introduced by coercion”\n",
            "Warning message in one_hot_to_frequency(x[2]):\n",
            "“NAs introduced by coercion”\n",
            "Warning message in one_hot_to_frequency(x[2]):\n",
            "“NAs introduced by coercion”\n",
            "Warning message in one_hot_to_frequency(x[2]):\n",
            "“NAs introduced by coercion”\n",
            "Warning message in one_hot_to_frequency(x[2]):\n",
            "“NAs introduced by coercion”\n",
            "Warning message in one_hot_to_frequency(x[2]):\n",
            "“NAs introduced by coercion”\n",
            "Warning message in one_hot_to_frequency(x[2]):\n",
            "“NAs introduced by coercion”\n",
            "Warning message in one_hot_to_frequency(x[2]):\n",
            "“NAs introduced by coercion”\n",
            "Warning message in one_hot_to_frequency(x[2]):\n",
            "“NAs introduced by coercion”\n",
            "Warning message in one_hot_to_frequency(x[2]):\n",
            "“NAs introduced by coercion”\n",
            "Warning message in one_hot_to_frequency(x[2]):\n",
            "“NAs introduced by coercion”\n",
            "Warning message in one_hot_to_frequency(x[2]):\n",
            "“NAs introduced by coercion”\n",
            "Warning message in one_hot_to_frequency(x[2]):\n",
            "“NAs introduced by coercion”\n",
            "Warning message in one_hot_to_frequency(x[2]):\n",
            "“NAs introduced by coercion”\n",
            "Warning message in one_hot_to_frequency(x[2]):\n",
            "“NAs introduced by coercion”\n"
          ]
        }
      ]
    },
    {
      "cell_type": "markdown",
      "source": [
        "# Experiment"
      ],
      "metadata": {
        "id": "4Y8JgLaCSaIW"
      }
    },
    {
      "cell_type": "code",
      "source": [
        "library(keras)\n",
        "\n",
        "# Pick up 75% as training dataset, 25% as test dataset\n",
        "smp_size <- floor(0.75*ncol(positive_norm_feature)) #1440 observations\n",
        "\n",
        "set.seed(1)\n",
        "train_positive_ind <- sample(seq_len(ncol(positive_norm_feature)),size = smp_size)\n",
        "\n",
        "train_positive <- positive_norm_feature[,train_positive_ind]\n",
        "test_positive <- positive_norm_feature[,-train_positive_ind]\n",
        "\n",
        "\n",
        "\n",
        "set.seed(2)\n",
        "train_negative_ind <- sample(seq_len(ncol(negative_norm_feature)),size = smp_size)\n",
        "\n",
        "train_negative <- negative_norm_feature[,train_negative_ind]\n",
        "test_negative <- negative_norm_feature[,-train_negative_ind]\n",
        "\n",
        "\n",
        "train_feature <- cbind(train_positive,train_negative)\n",
        "test_feature <- cbind(test_positive,test_negative)\n",
        "\n",
        "train_output <- c(rep(1,1080),rep(0,1080))\n",
        "test_output <- c(rep(1,360),rep(0,360))\n",
        "\n",
        "\n",
        "\n",
        "\n",
        "# Initialize neural network model\n",
        "model <- keras_model_sequential() %>%\n",
        "    layer_dense(units = 686*2,activation = 'relu',\n",
        "    input_shape = 686) %>%\n",
        "    layer_dropout(0.2) %>%\n",
        "    layer_dense(units = 1,activation = 'sigmoid')\n",
        "\n",
        "\n",
        "model %>% compile(optimizer = 'nadam',\n",
        "  loss = 'binary_crossentropy',\n",
        "  metrics = c('accuracy'))\n",
        "\n",
        "print_dot_callback <- callback_lambda(\n",
        "  on_epoch_end = function(epoch, logs) {\n",
        "    if (epoch %% 80 == 0) cat(\"\\n\")\n",
        "    cat(\".\")\n",
        "  }\n",
        ")\n",
        "\n",
        "# shuffle the training data\n",
        "set.seed(10)\n",
        "shuffle_id <- sample(seq_len(ncol(train_feature)),size = 2160)\n",
        "\n",
        "model %>% fit(t(train_feature[,shuffle_id]),\n",
        "train_output[shuffle_id],epochs = 100,\n",
        "validation_split = 0.2,\n",
        "callbacks = list(print_dot_callback),\n",
        "verbose = 2)\n",
        "\n",
        "\n",
        "score <- model %>%\n",
        "evaluate(t(test_feature),test_output,verbose = 0)\n",
        "score\n",
        "\n",
        "\n",
        "predictions <- predict(model,t(test_feature))\n"
      ],
      "metadata": {
        "colab": {
          "base_uri": "https://localhost:8080/",
          "height": 86
        },
        "id": "ou5BzeQCSjgW",
        "outputId": "87eb995d-2d9b-4015-f034-f239d2cf094d"
      },
      "execution_count": 20,
      "outputs": [
        {
          "output_type": "stream",
          "name": "stdout",
          "text": [
            "\n",
            "................................................................................\n",
            "...................."
          ]
        },
        {
          "output_type": "display_data",
          "data": {
            "text/html": [
              "<style>\n",
              ".dl-inline {width: auto; margin:0; padding: 0}\n",
              ".dl-inline>dt, .dl-inline>dd {float: none; width: auto; display: inline-block}\n",
              ".dl-inline>dt::after {content: \":\\0020\"; padding-right: .5ex}\n",
              ".dl-inline>dt:not(:first-of-type) {padding-left: .5ex}\n",
              "</style><dl class=dl-inline><dt>loss</dt><dd>1.74522042274475</dd><dt>accuracy</dt><dd>0.618055582046509</dd></dl>\n"
            ],
            "text/markdown": "loss\n:   1.74522042274475accuracy\n:   0.618055582046509\n\n",
            "text/latex": "\\begin{description*}\n\\item[loss] 1.74522042274475\n\\item[accuracy] 0.618055582046509\n\\end{description*}\n",
            "text/plain": [
              "     loss  accuracy \n",
              "1.7452204 0.6180556 "
            ]
          },
          "metadata": {}
        }
      ]
    },
    {
      "cell_type": "markdown",
      "source": [
        "# Results"
      ],
      "metadata": {
        "id": "DpvkNGZrTQ0h"
      }
    },
    {
      "cell_type": "code",
      "source": [
        "library(pROC)\n",
        "rocobj <- roc(as.numeric((test_output)),as.numeric(predictions))\n",
        "plot(rocobj,main = 'ROC curve',print.auc = TRUE,legacy.axes = TRUE)"
      ],
      "metadata": {
        "colab": {
          "base_uri": "https://localhost:8080/",
          "height": 506
        },
        "id": "NuQecD5sTTkA",
        "outputId": "bbb7673b-dfe3-40f9-812d-16b8b6893017"
      },
      "execution_count": 24,
      "outputs": [
        {
          "output_type": "stream",
          "name": "stderr",
          "text": [
            "Setting levels: control = 0, case = 1\n",
            "\n",
            "Setting direction: controls < cases\n",
            "\n"
          ]
        },
        {
          "output_type": "display_data",
          "data": {
            "text/plain": [
              "Plot with title “ROC curve”"
            ],
            "image/png": "[encoded data removed]"
          },
          "metadata": {
            "image/png": {
              "width": 420,
              "height": 420
            }
          }
        }
      ]
    },
    {
      "cell_type": "code",
      "source": [
        "confusionMatrix(data=as.factor(ifelse(predictions>=0.5,1,0)), reference =as.factor(test_output),positive = '1')"
      ],
      "metadata": {
        "colab": {
          "base_uri": "https://localhost:8080/",
          "height": 486
        },
        "id": "-Pg0T91UTVBI",
        "outputId": "9e539fec-2fac-4e79-9a09-141a1c0baa93"
      },
      "execution_count": 25,
      "outputs": [
        {
          "output_type": "display_data",
          "data": {
            "text/plain": [
              "Confusion Matrix and Statistics\n",
              "\n",
              "          Reference\n",
              "Prediction   0   1\n",
              "         0 223 138\n",
              "         1 137 222\n",
              "                                          \n",
              "               Accuracy : 0.6181          \n",
              "                 95% CI : (0.5814, 0.6537)\n",
              "    No Information Rate : 0.5             \n",
              "    P-Value [Acc > NIR] : 1.25e-10        \n",
              "                                          \n",
              "                  Kappa : 0.2361          \n",
              "                                          \n",
              " Mcnemar's Test P-Value : 1               \n",
              "                                          \n",
              "            Sensitivity : 0.6167          \n",
              "            Specificity : 0.6194          \n",
              "         Pos Pred Value : 0.6184          \n",
              "         Neg Pred Value : 0.6177          \n",
              "             Prevalence : 0.5000          \n",
              "         Detection Rate : 0.3083          \n",
              "   Detection Prevalence : 0.4986          \n",
              "      Balanced Accuracy : 0.6181          \n",
              "                                          \n",
              "       'Positive' Class : 1               \n",
              "                                          "
            ]
          },
          "metadata": {}
        }
      ]
    }
  ]
}